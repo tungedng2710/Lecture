{
 "cells": [
  {
   "cell_type": "code",
   "execution_count": 1,
   "metadata": {},
   "outputs": [],
   "source": [
    "import numpy as np"
   ]
  },
  {
   "cell_type": "code",
   "execution_count": 2,
   "metadata": {},
   "outputs": [],
   "source": [
    "arr1 = np.random.rand(5,5)\n",
    "arr2 = np.random.rand(5,5)"
   ]
  },
  {
   "cell_type": "markdown",
   "metadata": {},
   "source": [
    "### matrix multiplication"
   ]
  },
  {
   "cell_type": "code",
   "execution_count": 3,
   "metadata": {},
   "outputs": [
    {
     "name": "stdout",
     "output_type": "stream",
     "text": [
      "[[1.31252776 0.97959602 1.04562177 1.46872849 0.82346985]\n",
      " [0.57189002 0.52485513 0.6974257  0.70011061 0.68537337]\n",
      " [0.7021696  0.85146355 1.20523878 0.90775039 1.2998992 ]\n",
      " [1.00630752 0.99472846 1.16669167 1.06176843 1.0317387 ]\n",
      " [1.50082083 1.33223036 1.47193944 1.70380111 1.34317336]]\n",
      "[[1.31252776 0.97959602 1.04562177 1.46872849 0.82346985]\n",
      " [0.57189002 0.52485513 0.6974257  0.70011061 0.68537337]\n",
      " [0.7021696  0.85146355 1.20523878 0.90775039 1.2998992 ]\n",
      " [1.00630752 0.99472846 1.16669167 1.06176843 1.0317387 ]\n",
      " [1.50082083 1.33223036 1.47193944 1.70380111 1.34317336]]\n",
      "[[1.31252776 0.97959602 1.04562177 1.46872849 0.82346985]\n",
      " [0.57189002 0.52485513 0.6974257  0.70011061 0.68537337]\n",
      " [0.7021696  0.85146355 1.20523878 0.90775039 1.2998992 ]\n",
      " [1.00630752 0.99472846 1.16669167 1.06176843 1.0317387 ]\n",
      " [1.50082083 1.33223036 1.47193944 1.70380111 1.34317336]]\n"
     ]
    }
   ],
   "source": [
    "print(arr1.dot(arr2))\n",
    "# or\n",
    "print(np.dot(arr1, arr2))\n",
    "# or\n",
    "print(arr1 @ arr2)"
   ]
  },
  {
   "cell_type": "markdown",
   "metadata": {},
   "source": [
    "### QR factorization "
   ]
  },
  {
   "cell_type": "code",
   "execution_count": 4,
   "metadata": {},
   "outputs": [
    {
     "name": "stdout",
     "output_type": "stream",
     "text": [
      "[[-0.70587399 -0.10465788  0.60113926 -0.0267876  -0.35875153]\n",
      " [-0.54610348 -0.49295842 -0.4513967  -0.17201361  0.47477924]\n",
      " [-0.25379769  0.34738697  0.03453889  0.81080678  0.39535864]\n",
      " [-0.14503423 -0.10064629 -0.58908925  0.36392496 -0.69954834]\n",
      " [-0.34360545  0.78436684 -0.29436972 -0.42408104 -0.01434168]]\n",
      "[[-0.84698441 -1.25767968 -1.12329663 -0.94203706 -0.78685899]\n",
      " [ 0.          0.60393505  0.37048914 -0.41712377 -0.10680234]\n",
      " [ 0.          0.         -0.6688117  -0.57302335 -0.22413241]\n",
      " [ 0.          0.          0.          0.09166178  0.21059678]\n",
      " [ 0.          0.          0.          0.         -0.1688188 ]]\n"
     ]
    }
   ],
   "source": [
    "arr = np.random.rand(5,5)\n",
    "\n",
    "q, r = np.linalg.qr(arr)\n",
    "print(q)\n",
    "print(r)"
   ]
  },
  {
   "cell_type": "markdown",
   "metadata": {},
   "source": [
    "### singular value decomposition (SVD)"
   ]
  },
  {
   "cell_type": "code",
   "execution_count": 5,
   "metadata": {},
   "outputs": [
    {
     "name": "stdout",
     "output_type": "stream",
     "text": [
      "[[-0.51582413  0.05340736 -0.69571428 -0.42334918  0.26044237]\n",
      " [-0.34775725 -0.842141    0.21629222  0.15550346  0.31448335]\n",
      " [-0.58401574  0.12177925  0.51003396 -0.4015491  -0.47193125]\n",
      " [-0.19493532  0.47928268  0.41313699  0.07759931  0.74537541]\n",
      " [-0.48364882  0.20833652 -0.19591453  0.79330374 -0.23444912]]\n",
      "[2.96018519 0.93273137 0.62401273 0.40194888 0.26704925]\n",
      "[[-0.48078664 -0.39309221 -0.42944155 -0.29921415 -0.58341544]\n",
      " [ 0.48711506 -0.50981326  0.52113532  0.06743482 -0.4761091 ]\n",
      " [-0.01840113  0.30579164 -0.20481209  0.81028409 -0.45568033]\n",
      " [ 0.00896271 -0.69463434 -0.31862447  0.44454422  0.46718486]\n",
      " [-0.7287964  -0.09769114  0.63287312  0.22747212  0.08390644]]\n"
     ]
    }
   ],
   "source": [
    "arr = np.random.rand(5,5)\n",
    "\n",
    "u, s, v = np.linalg.svd(arr)\n",
    "print(u)\n",
    "print(s)\n",
    "print(v)"
   ]
  },
  {
   "cell_type": "markdown",
   "metadata": {},
   "source": [
    "### compute eigen values"
   ]
  },
  {
   "cell_type": "code",
   "execution_count": 6,
   "metadata": {},
   "outputs": [
    {
     "name": "stdout",
     "output_type": "stream",
     "text": [
      "[ 2.57442096+0.j         -0.46004396+0.56206791j -0.46004396-0.56206791j\n",
      " -0.25673011+0.j          0.01785716+0.j        ]\n"
     ]
    }
   ],
   "source": [
    "arr = np.random.rand(5,5)\n",
    "print(np.linalg.eigvals(arr))"
   ]
  },
  {
   "cell_type": "markdown",
   "metadata": {},
   "source": [
    "### eigen value decomposition"
   ]
  },
  {
   "cell_type": "code",
   "execution_count": 7,
   "metadata": {},
   "outputs": [
    {
     "name": "stdout",
     "output_type": "stream",
     "text": [
      "[ 2.73661103+0.j         -0.01715451+0.56141968j -0.01715451-0.56141968j\n",
      " -0.25543635+0.j          0.22382747+0.j        ]\n",
      "[[-0.40507237+0.j         -0.52280453+0.06471084j -0.52280453-0.06471084j\n",
      "  -0.50291692+0.j         -0.64402754+0.j        ]\n",
      " [-0.52894602+0.j         -0.08687172-0.31451027j -0.08687172+0.31451027j\n",
      "   0.61420091+0.j         -0.36336532+0.j        ]\n",
      " [-0.38604381+0.j          0.59168845+0.j          0.59168845-0.j\n",
      "  -0.25138299+0.j          0.31358756+0.j        ]\n",
      " [-0.3882069 +0.j          0.04733147-0.21866252j  0.04733147+0.21866252j\n",
      "  -0.19993459+0.j          0.48920281+0.j        ]\n",
      " [-0.50635764+0.j          0.16235405+0.43533538j  0.16235405-0.43533538j\n",
      "   0.51639574+0.j          0.33990826+0.j        ]]\n"
     ]
    }
   ],
   "source": [
    "arr = np.random.rand(5,5)\n",
    "\n",
    "w, v = np.linalg.eig(arr)\n",
    "print(w)    # eigen values\n",
    "print(v)    # eigen vectors"
   ]
  },
  {
   "cell_type": "markdown",
   "metadata": {},
   "source": [
    "### compute the trace & determinant"
   ]
  },
  {
   "cell_type": "code",
   "execution_count": 8,
   "metadata": {},
   "outputs": [
    {
     "name": "stdout",
     "output_type": "stream",
     "text": [
      "2.6706931211757334\n"
     ]
    }
   ],
   "source": [
    "# notice this is not a function in linalg!!!\n",
    "print(np.trace(arr))    "
   ]
  },
  {
   "cell_type": "code",
   "execution_count": 9,
   "metadata": {},
   "outputs": [
    {
     "name": "stdout",
     "output_type": "stream",
     "text": [
      "-0.04936165379461782\n"
     ]
    }
   ],
   "source": [
    "print(np.linalg.det(arr))"
   ]
  },
  {
   "cell_type": "markdown",
   "metadata": {},
   "source": [
    "### calculate the inverse/psedo-inverse of a matrix"
   ]
  },
  {
   "cell_type": "code",
   "execution_count": 10,
   "metadata": {},
   "outputs": [],
   "source": [
    "arr = np.random.rand(5,5)"
   ]
  },
  {
   "cell_type": "code",
   "execution_count": 11,
   "metadata": {},
   "outputs": [
    {
     "name": "stdout",
     "output_type": "stream",
     "text": [
      "[[-0.9729108   0.68359843  0.27560095  0.31558263  0.06454983]\n",
      " [ 0.07756599  0.37670971 -0.95034846  0.07536458  1.19394609]\n",
      " [ 0.44376295 -0.35349158  1.60914268 -1.41864262  0.00861574]\n",
      " [ 0.82939409 -2.27873377  2.38781928  0.06971199 -0.39439425]\n",
      " [-0.07431272  4.34596577 -6.65563472  2.39012962  0.08796141]]\n"
     ]
    }
   ],
   "source": [
    "# compute the inverse of a matrix\n",
    "print(np.linalg.inv(arr))"
   ]
  },
  {
   "cell_type": "code",
   "execution_count": 12,
   "metadata": {},
   "outputs": [
    {
     "name": "stdout",
     "output_type": "stream",
     "text": [
      "[[-0.9729108   0.68359843  0.27560095  0.31558263  0.06454983]\n",
      " [ 0.07756599  0.37670971 -0.95034846  0.07536458  1.19394609]\n",
      " [ 0.44376295 -0.35349158  1.60914268 -1.41864262  0.00861574]\n",
      " [ 0.82939409 -2.27873377  2.38781928  0.06971199 -0.39439425]\n",
      " [-0.07431272  4.34596577 -6.65563472  2.39012962  0.08796141]]\n"
     ]
    }
   ],
   "source": [
    "# compute the psudo-inverse of a matrix\n",
    "print(np.linalg.pinv(arr))"
   ]
  },
  {
   "cell_type": "markdown",
   "metadata": {},
   "source": [
    "### solve a linear system"
   ]
  },
  {
   "cell_type": "code",
   "execution_count": 13,
   "metadata": {},
   "outputs": [
    {
     "name": "stdout",
     "output_type": "stream",
     "text": [
      "[ 2.80616855  4.25112878 -1.06728394  1.74226111 -1.34895981]\n"
     ]
    }
   ],
   "source": [
    "# solve a linear system in closed form\n",
    "y = [1,2,3,4,5]\n",
    "print(np.linalg.solve(arr, y))"
   ]
  },
  {
   "cell_type": "code",
   "execution_count": 14,
   "metadata": {},
   "outputs": [
    {
     "name": "stdout",
     "output_type": "stream",
     "text": [
      "[ 2.80616855  4.25112878 -1.06728394  1.74226111 -1.34895981]\n",
      "[]\n",
      "5\n",
      "[2.45425469 0.89773066 0.73143991 0.57608405 0.10952437]\n"
     ]
    },
    {
     "name": "stderr",
     "output_type": "stream",
     "text": [
      "C:\\Users\\ewang\\AppData\\Local\\Continuum\\miniconda3\\lib\\site-packages\\ipykernel_launcher.py:3: FutureWarning: `rcond` parameter will change to the default of machine precision times ``max(M, N)`` where M and N are the input matrix dimensions.\n",
      "To use the future default and silence this warning we advise to pass `rcond=None`, to keep using the old, explicitly pass `rcond=-1`.\n",
      "  This is separate from the ipykernel package so we can avoid doing imports until\n"
     ]
    }
   ],
   "source": [
    "# calculate the least-squares solution of a linear system\n",
    "y = [1,2,3,4,5]\n",
    "solution, residuals, rank, singular = np.linalg.lstsq(arr, y)\n",
    "print(solution)\n",
    "print(residuals)\n",
    "print(rank)\n",
    "print(singular)"
   ]
  }
 ],
 "metadata": {
  "kernelspec": {
   "display_name": "Python 3",
   "language": "python",
   "name": "python3"
  },
  "language_info": {
   "codemirror_mode": {
    "name": "ipython",
    "version": 3
   },
   "file_extension": ".py",
   "mimetype": "text/x-python",
   "name": "python",
   "nbconvert_exporter": "python",
   "pygments_lexer": "ipython3",
   "version": "3.6.6"
  }
 },
 "nbformat": 4,
 "nbformat_minor": 2
}
